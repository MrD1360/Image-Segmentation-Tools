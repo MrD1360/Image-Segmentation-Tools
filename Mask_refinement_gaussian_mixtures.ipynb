{
 "cells": [
  {
   "cell_type": "markdown",
   "metadata": {},
   "source": [
    "# Mask Refinement for semantic segmentation training\n",
    "\n",
    "This notebook is thought for all those times in which you have to train a network for image segmentation purposes but the masks provided or made by hand are not accurate enough (for instance, semantic segmentation of leaves).\n",
    "\n",
    "### Methodology\n",
    "\n",
    "The idea is very simple: apply gaussian mixtures to the mask only. However, for certain situations it proved to be better to work in the whole image and then update the old mask with the new values just in the \"ones\" of the original mask.\n"
   ]
  },
  {
   "cell_type": "code",
   "execution_count": null,
   "metadata": {},
   "outputs": [],
   "source": [
    "import numpy as np\n",
    "import cv2\n",
    "\n",
    "import matplotlib.pyplot as plt\n",
    "\n",
    "from sklearn.mixture import GaussianMixture \n",
    "\n"
   ]
  },
  {
   "cell_type": "code",
   "execution_count": null,
   "metadata": {},
   "outputs": [],
   "source": [
    "#uploading mask and img\n",
    "img= cv2.imread('img.jpg') \n",
    "mask= cv2.imread('mask.jpg',0) #black and white\n",
    "\n",
    "mask[mask>=(255/2)]=255\n",
    "mask[mask<(255/2)]=0"
   ]
  },
  {
   "cell_type": "code",
   "execution_count": null,
   "metadata": {},
   "outputs": [],
   "source": [
    "# we need just the mask \"ones\" in the image\n",
    "mask_in_img=img[mask==255]\n",
    "mask_in_img.shape"
   ]
  },
  {
   "cell_type": "code",
   "execution_count": null,
   "metadata": {},
   "outputs": [],
   "source": [
    "'''\n",
    "you can use one model for all the masks, or generate a model for each mask. This second option takes more time,\n",
    "however sometimes the distributions are so different and it's better to have one for each mask.\n",
    "'''\n",
    "\n",
    "gm_local = GaussianMixture(n_components=2,n_init=5, covariance_type='full',random_state=1).fit(mask_in_img) \n",
    "'''\n",
    "params:\n",
    "-for a binary mask usualy you work with 2 components\n",
    "-n_init is the time you run the model, it keeps the best\n",
    "-covariance_type can be full, tied, spherical etc\n",
    "- random state to keep the same results along different instances\n",
    "'''\n",
    "print(gm_local.converged_,\"converged\")\n",
    "print(gm_local.n_iter_,\"n iteration to converge\")\n",
    "prediction = gm_local.predict(mask_in_img)"
   ]
  },
  {
   "cell_type": "code",
   "execution_count": null,
   "metadata": {},
   "outputs": [],
   "source": [
    "#set new values in the mask\n",
    "refined_mask=np.copy(mask)\n",
    "refined_mask[refined_mask==255]=prediction*255"
   ]
  },
  {
   "cell_type": "code",
   "execution_count": null,
   "metadata": {},
   "outputs": [],
   "source": [
    "fig, ax = plt.subplots(1, 2, figsize=(10,10))\n",
    "ax[0].imshow(img)\n",
    "ax[1].imshow(refined_mask)"
   ]
  },
  {
   "cell_type": "code",
   "execution_count": null,
   "metadata": {},
   "outputs": [],
   "source": [
    "# save the mask\n",
    "refined_mask_path='your_path/'\n",
    "\n",
    "from skimage import io\n",
    "\n",
    "io.imsave(refined_mask_path,refined_mask)"
   ]
  }
 ],
 "metadata": {
  "kernelspec": {
   "display_name": "Python 3",
   "language": "python",
   "name": "python3"
  },
  "language_info": {
   "codemirror_mode": {
    "name": "ipython",
    "version": 3
   },
   "file_extension": ".py",
   "mimetype": "text/x-python",
   "name": "python",
   "nbconvert_exporter": "python",
   "pygments_lexer": "ipython3",
   "version": "3.6.9"
  }
 },
 "nbformat": 4,
 "nbformat_minor": 4
}
